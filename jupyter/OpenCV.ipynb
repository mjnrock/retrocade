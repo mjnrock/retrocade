{
 "cells": [
  {
   "cell_type": "code",
   "execution_count": null,
   "id": "c5adba5c-6070-48b0-ab89-3b71c26fc0b2",
   "metadata": {},
   "outputs": [],
   "source": [
    "!pip install opencv-python"
   ]
  },
  {
   "cell_type": "code",
   "execution_count": 1,
   "id": "82e69d28-0ddd-443a-9309-12573fc22d29",
   "metadata": {},
   "outputs": [],
   "source": [
    "import cv2\n",
    "import numpy as np"
   ]
  },
  {
   "cell_type": "code",
   "execution_count": 22,
   "id": "8f5cfff7-d051-46d7-a89b-61df5db6452d",
   "metadata": {},
   "outputs": [],
   "source": [
    "farm_img = cv2.imread('farm.png', cv2.IMREAD_UNCHANGED)\n",
    "wheat_img = cv2.imread('needle.png', cv2.IMREAD_UNCHANGED)"
   ]
  },
  {
   "cell_type": "code",
   "execution_count": 30,
   "id": "3d382b72-6b8c-4a8c-b701-e2e25be63699",
   "metadata": {},
   "outputs": [],
   "source": [
    "cv2.imshow(\"Farm\", farm_img)\n",
    "cv2.waitKey()\n",
    "cv2.destroyAllWindows()"
   ]
  },
  {
   "cell_type": "code",
   "execution_count": 5,
   "id": "0c0b2dff-3e40-4882-807d-c93978528528",
   "metadata": {},
   "outputs": [],
   "source": [
    "cv2.imshow(\"Needle\", wheat_img)\n",
    "cv2.waitKey()\n",
    "cv2.destroyAllWindows()"
   ]
  },
  {
   "cell_type": "code",
   "execution_count": 6,
   "id": "29f74a4d",
   "metadata": {},
   "outputs": [],
   "source": [
    "result = cv2.matchTemplate(farm_img, wheat_img, cv2.TM_CCOEFF_NORMED)"
   ]
  },
  {
   "cell_type": "code",
   "execution_count": 7,
   "id": "be822b6f",
   "metadata": {},
   "outputs": [],
   "source": [
    "cv2.imshow(\"Result\", result)\n",
    "cv2.waitKey()\n",
    "cv2.destroyAllWindows()"
   ]
  },
  {
   "cell_type": "code",
   "execution_count": 8,
   "id": "6754865f",
   "metadata": {},
   "outputs": [],
   "source": [
    "min_val, max_val, min_loc, max_loc = cv2.minMaxLoc(result)"
   ]
  },
  {
   "cell_type": "code",
   "execution_count": 9,
   "id": "29f15466",
   "metadata": {},
   "outputs": [
    {
     "data": {
      "text/plain": [
       "(731, 301)"
      ]
     },
     "execution_count": 9,
     "metadata": {},
     "output_type": "execute_result"
    }
   ],
   "source": [
    "max_loc"
   ]
  },
  {
   "cell_type": "code",
   "execution_count": 10,
   "id": "412c28ca",
   "metadata": {},
   "outputs": [
    {
     "data": {
      "text/plain": [
       "0.999998927116394"
      ]
     },
     "execution_count": 10,
     "metadata": {},
     "output_type": "execute_result"
    }
   ],
   "source": [
    "max_val"
   ]
  },
  {
   "cell_type": "code",
   "execution_count": 11,
   "id": "6c31724b",
   "metadata": {},
   "outputs": [],
   "source": [
    "w = wheat_img.shape[1]\n",
    "h = wheat_img.shape[0]"
   ]
  },
  {
   "cell_type": "code",
   "execution_count": 12,
   "id": "446b6c6b",
   "metadata": {},
   "outputs": [
    {
     "data": {
      "text/plain": [
       "array([[[ 37, 114,  84],\n",
       "        [ 55, 130, 102],\n",
       "        [ 38, 110,  77],\n",
       "        ...,\n",
       "        [ 67, 111,  27],\n",
       "        [ 67, 111,  27],\n",
       "        [ 53, 111,  18]],\n",
       "\n",
       "       [[ 36, 121,  78],\n",
       "        [ 38, 110,  77],\n",
       "        [ 38, 110,  77],\n",
       "        ...,\n",
       "        [ 67, 111,  27],\n",
       "        [ 67, 111,  27],\n",
       "        [ 67, 111,  27]],\n",
       "\n",
       "       [[ 48, 165, 109],\n",
       "        [ 50, 158,  96],\n",
       "        [ 36, 121,  78],\n",
       "        ...,\n",
       "        [ 67, 111,  27],\n",
       "        [ 67, 111,  27],\n",
       "        [ 66, 124,  25]],\n",
       "\n",
       "       ...,\n",
       "\n",
       "       [[172,  93,  14],\n",
       "        [172,  93,  14],\n",
       "        [172,  93,  14],\n",
       "        ...,\n",
       "        [169, 214, 237],\n",
       "        [171, 216, 239],\n",
       "        [172, 217, 240]],\n",
       "\n",
       "       [[173,  94,  15],\n",
       "        [173,  94,  15],\n",
       "        [172,  93,  14],\n",
       "        ...,\n",
       "        [172, 217, 240],\n",
       "        [172, 217, 240],\n",
       "        [173, 215, 239]],\n",
       "\n",
       "       [[173,  94,  15],\n",
       "        [173,  94,  15],\n",
       "        [172,  93,  14],\n",
       "        ...,\n",
       "        [172, 214, 238],\n",
       "        [173, 215, 239],\n",
       "        [173, 215, 239]]], dtype=uint8)"
      ]
     },
     "execution_count": 12,
     "metadata": {},
     "output_type": "execute_result"
    }
   ],
   "source": [
    "cv2.rectangle(farm_img, max_loc, (max_loc[0] + w, max_loc[1] + h), (0, 255, 255), 2)"
   ]
  },
  {
   "cell_type": "code",
   "execution_count": 16,
   "id": "07238fa8",
   "metadata": {},
   "outputs": [],
   "source": [
    "threshold = 0.60"
   ]
  },
  {
   "cell_type": "code",
   "execution_count": 17,
   "id": "039f9e4d",
   "metadata": {},
   "outputs": [],
   "source": [
    "yloc, xloc = np.where(result >= threshold)"
   ]
  },
  {
   "cell_type": "code",
   "execution_count": 18,
   "id": "2223fd59",
   "metadata": {},
   "outputs": [
    {
     "data": {
      "text/plain": [
       "13"
      ]
     },
     "execution_count": 18,
     "metadata": {},
     "output_type": "execute_result"
    }
   ],
   "source": [
    "len(xloc)"
   ]
  },
  {
   "cell_type": "code",
   "execution_count": 19,
   "id": "5a722832",
   "metadata": {},
   "outputs": [],
   "source": [
    "for (x, y) in zip(xloc, yloc):\n",
    "    cv2.rectangle(farm_img, (x, y), (x + w, y + h), (0, 255, 255), 2)"
   ]
  },
  {
   "cell_type": "code",
   "execution_count": 24,
   "id": "b6407d80",
   "metadata": {},
   "outputs": [],
   "source": [
    "rectangles = []\n",
    "for (x, y) in zip(xloc, yloc):\n",
    "    rectangles.append([ int(x), int(y), int(w), int(h) ])\n",
    "    rectangles.append([ int(x), int(y), int(w), int(h) ])"
   ]
  },
  {
   "cell_type": "code",
   "execution_count": 25,
   "id": "06776225",
   "metadata": {},
   "outputs": [
    {
     "data": {
      "text/plain": [
       "26"
      ]
     },
     "execution_count": 25,
     "metadata": {},
     "output_type": "execute_result"
    }
   ],
   "source": [
    "len(rectangles)"
   ]
  },
  {
   "cell_type": "code",
   "execution_count": 26,
   "id": "60bcb87b",
   "metadata": {},
   "outputs": [],
   "source": [
    "rectangles, weights = cv2.groupRectangles(rectangles, 1, 0.2)"
   ]
  },
  {
   "cell_type": "code",
   "execution_count": 27,
   "id": "cd98c9e3",
   "metadata": {},
   "outputs": [
    {
     "data": {
      "text/plain": [
       "5"
      ]
     },
     "execution_count": 27,
     "metadata": {},
     "output_type": "execute_result"
    }
   ],
   "source": [
    "len(rectangles)"
   ]
  },
  {
   "cell_type": "code",
   "execution_count": 28,
   "id": "33e3c552",
   "metadata": {},
   "outputs": [],
   "source": [
    "for (x, y, w, h) in rectangles:\n",
    "    cv2.rectangle(farm_img, (x, y), (x + w, y + h), (0, 255, 255), 2)"
   ]
  }
 ],
 "metadata": {
  "kernelspec": {
   "display_name": "Python 3 (ipykernel)",
   "language": "python",
   "name": "python3"
  },
  "language_info": {
   "codemirror_mode": {
    "name": "ipython",
    "version": 3
   },
   "file_extension": ".py",
   "mimetype": "text/x-python",
   "name": "python",
   "nbconvert_exporter": "python",
   "pygments_lexer": "ipython3",
   "version": "3.9.7"
  }
 },
 "nbformat": 4,
 "nbformat_minor": 5
}
